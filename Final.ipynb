{
 "cells": [
  {
   "cell_type": "code",
   "execution_count": null,
   "id": "5b5471fe-0589-43e0-abcd-58585a65674d",
   "metadata": {},
   "outputs": [],
   "source": []
  },
  {
   "cell_type": "code",
   "execution_count": 12,
   "id": "69a9b6e3-0ab1-4c1c-b9f1-a085650ad552",
   "metadata": {},
   "outputs": [
    {
     "name": "stdout",
     "output_type": "stream",
     "text": [
      "Enter features for the new house:\n"
     ]
    },
    {
     "name": "stdin",
     "output_type": "stream",
     "text": [
      "Area (zipcode, district, etc.):  3\n",
      "Square footage:  856\n",
      "Distance to main area:  36\n",
      "Number of bedrooms:  1\n",
      "Number of bathrooms:  1\n",
      "Number of rooms: 3\n",
      "Nearby park (1 for yes, 0 for no):  1\n"
     ]
    },
    {
     "name": "stdout",
     "output_type": "stream",
     "text": [
      "Predicted Price for the New House (Linear Regression): 9674794.066326432\n",
      "Predicted Price for the New House (k-NN Regression): 10705848.0\n",
      "Predicted Price for the New House (Decision Tree Regression): 10383420.0\n"
     ]
    }
   ],
   "source": [
    "import numpy as np\n",
    "import pandas as pd\n",
    "from sklearn.model_selection import train_test_split\n",
    "from sklearn.preprocessing import StandardScaler\n",
    "from sklearn.linear_model import LinearRegression\n",
    "from sklearn.neighbors import KNeighborsRegressor\n",
    "from sklearn.tree import DecisionTreeRegressor\n",
    "from sklearn.metrics import mean_squared_error\n",
    "from sklearn.impute import SimpleImputer\n",
    "\n",
    "import warnings\n",
    "warnings.filterwarnings(\"ignore\")\n",
    "\n",
    "# Load your dataset\n",
    "data = pd.read_csv('Chennai houseing sale_2.csv')\n",
    "\n",
    "# Preprocess data\n",
    "data.columns = data.columns.str.lower()\n",
    "data.area = data.area.str.lower()\n",
    "data.area = data.area.map({'karapakkam': 1, 'adyar': 2, 'chrompet': 3, 'velachery': 4,\n",
    "                           'kk nagar': 5, 'anna nagar': 6, 't nagar': 7})\n",
    "data.park_facil = data.park_facil.map({'yes': 1, 'no': 0})\n",
    "\n",
    "# Define features and target variables\n",
    "X = data.drop(columns=['commis', 'sales_price', 'reg_fee'], axis=1)\n",
    "y = data['sales_price']\n",
    "\n",
    "# Splitting the dataset into training and testing sets\n",
    "X_train, X_test, y_train, y_test = train_test_split(X, y, test_size=0.2, random_state=42)\n",
    "\n",
    "# Initialize the imputer with strategy='mean' to impute missing values with the mean\n",
    "imputer = SimpleImputer(strategy='mean')\n",
    "\n",
    "# Fit and transform the imputer on the training data\n",
    "X_train_imputed = imputer.fit_transform(X_train)\n",
    "\n",
    "# Transform the test data using the fitted imputer\n",
    "X_test_imputed = imputer.transform(X_test)\n",
    "\n",
    "# Data preprocessing: Standardize features\n",
    "scaler = StandardScaler()\n",
    "X_train_scaled = scaler.fit_transform(X_train_imputed)\n",
    "X_test_scaled = scaler.transform(X_test_imputed)\n",
    "\n",
    "# Initialize Linear Regression model\n",
    "lr = LinearRegression()\n",
    "lr.fit(X_train_scaled, y_train)\n",
    "\n",
    "# Initialize k-NN Regression model\n",
    "knn_regressor = KNeighborsRegressor(n_neighbors=5)\n",
    "knn_regressor.fit(X_train_scaled, y_train)\n",
    "\n",
    "# Initialize Decision Tree Regression model\n",
    "dt_regressor = DecisionTreeRegressor(random_state=42)\n",
    "dt_regressor.fit(X_train_scaled, y_train)\n",
    "\n",
    "# Manually input features for a new house\n",
    "print(\"Enter features for the new house:\")\n",
    "area = int(input(\"Area (zipcode, district, etc.): \"))\n",
    "sqft = int(input(\"Square footage: \"))\n",
    "dist_main = int(input(\"Distance to main area: \"))\n",
    "bedrooms = int(input(\"Number of bedrooms: \"))\n",
    "bathrooms = int(input(\"Number of bathrooms: \"))\n",
    "room = int(input(\"Number of rooms:\"))\n",
    "park = int(input(\"Nearby park (1 for yes, 0 for no): \"))\n",
    "\n",
    "# Example prediction for a new house using Linear Regression\n",
    "new_house_features = np.array([[area, sqft, dist_main, bedrooms, bathrooms, room, park]])\n",
    "new_house_features_scaled = scaler.transform(new_house_features)\n",
    "lr_predicted_price = lr.predict(new_house_features_scaled)[0]\n",
    "\n",
    "# Example prediction for a new house using k-NN Regression\n",
    "knn_predicted_price = knn_regressor.predict(new_house_features_scaled)[0]\n",
    "\n",
    "# Example prediction for a new house using Decision Tree Regression\n",
    "dt_predicted_price = dt_regressor.predict(new_house_features_scaled)[0]\n",
    "\n",
    "print(\"Predicted Price for the New House (Linear Regression):\", lr_predicted_price)\n",
    "print(\"Predicted Price for the New House (k-NN Regression):\", knn_predicted_price)\n",
    "print(\"Predicted Price for the New House (Decision Tree Regression):\", dt_predicted_price)\n"
   ]
  },
  {
   "cell_type": "code",
   "execution_count": null,
   "id": "dfd878bf-05a5-4402-b8e3-e3ef51a6df9b",
   "metadata": {},
   "outputs": [],
   "source": []
  }
 ],
 "metadata": {
  "kernelspec": {
   "display_name": "Python 3 (ipykernel)",
   "language": "python",
   "name": "python3"
  },
  "language_info": {
   "codemirror_mode": {
    "name": "ipython",
    "version": 3
   },
   "file_extension": ".py",
   "mimetype": "text/x-python",
   "name": "python",
   "nbconvert_exporter": "python",
   "pygments_lexer": "ipython3",
   "version": "3.11.5"
  }
 },
 "nbformat": 4,
 "nbformat_minor": 5
}
