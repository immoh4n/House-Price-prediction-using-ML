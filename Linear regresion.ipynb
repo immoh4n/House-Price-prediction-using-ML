{
 "cells": [
  {
   "cell_type": "code",
   "execution_count": 2,
   "id": "9f11cd9a",
   "metadata": {},
   "outputs": [
    {
     "name": "stdout",
     "output_type": "stream",
     "text": [
      "         AREA  INT_SQFT  DIST_MAINROAD  N_BEDROOM  N_BATHROOM  N_ROOM  \\\n",
      "0  Karapakkam      1004            131        1.0         1.0       3   \n",
      "1  Anna Nagar      1986             26        2.0         1.0       5   \n",
      "2       Adyar       909             70        1.0         1.0       3   \n",
      "3   Velachery      1855             14        3.0         2.0       5   \n",
      "4  Karapakkam      1226             84        1.0         1.0       3   \n",
      "\n",
      "  PARK_FACIL  REG_FEE  COMMIS  SALES_PRICE  \n",
      "0        Yes   380000  144400      7600000  \n",
      "1         No   760122  304049     21717770  \n",
      "2        Yes   421094   92114     13159200  \n",
      "3         No   356321   77042      9630290  \n",
      "4        Yes   237000   74063      7406250  \n",
      "R2 SCORE: 0.5352933447153949\n"
     ]
    }
   ],
   "source": [
    "from sklearn.model_selection import train_test_split\n",
    "from sklearn.linear_model import LinearRegression\n",
    "from sklearn.metrics import r2_score\n",
    "from sklearn.impute import SimpleImputer\n",
    "import pandas as pd\n",
    "import warnings\n",
    "warnings.filterwarnings(\"ignore\")\n",
    "\n",
    "# Load your dataset\n",
    "data = pd.read_csv('Chennai houseing sale_2.csv')\n",
    "print(data.head(5))\n",
    "\n",
    "data.columns = data.columns.str.lower()\n",
    "data.area = data.area.str.lower()\n",
    "\n",
    "# Encode the area column\n",
    "data.area = data.area.map({'karapakkam': 1,\n",
    "                           'adyar': 2, \n",
    "                           'chrompet': 3,\n",
    "                           'velachery': 4,\n",
    "                           'kk nagar': 5, \n",
    "                           'anna nagar': 6,\n",
    "                           't nagar': 7})\n",
    "\n",
    "# Encode the park_facil column\n",
    "data.park_facil = data.park_facil.map({'yes': 1, 'no': 0})\n",
    "\n",
    "# Define features and target variables\n",
    "features = data.drop(columns=['commis', 'sales_price', 'reg_fee'], axis=1)\n",
    "target = data['sales_price']\n",
    "\n",
    "# Split the data into training and test sets\n",
    "X_train, X_test, y_train, y_test = train_test_split(features, target, test_size=0.2, random_state=42)\n",
    "\n",
    "# Initialize the imputer with strategy='mean' to impute missing values with the mean\n",
    "imputer = SimpleImputer(strategy='mean')\n",
    "\n",
    "# Fit and transform the imputer on the training data\n",
    "X_train_imputed = imputer.fit_transform(X_train)\n",
    "\n",
    "# Transform the test data using the fitted imputer\n",
    "X_test_imputed = imputer.transform(X_test)\n",
    "\n",
    "# Initialize the Linear Regression model\n",
    "lr = LinearRegression()\n",
    "\n",
    "# Fit the model on the training data\n",
    "lr.fit(X_train_imputed, y_train)\n",
    "\n",
    "# Predict on the test data\n",
    "y_pred = lr.predict(X_test_imputed)\n",
    "\n",
    "# Evaluate the model\n",
    "print('R2 SCORE:', r2_score(y_test, y_pred))\n"
   ]
  },
  {
   "cell_type": "code",
   "execution_count": null,
   "id": "f8679978",
   "metadata": {},
   "outputs": [],
   "source": []
  }
 ],
 "metadata": {
  "kernelspec": {
   "display_name": "Python 3 (ipykernel)",
   "language": "python",
   "name": "python3"
  },
  "language_info": {
   "codemirror_mode": {
    "name": "ipython",
    "version": 3
   },
   "file_extension": ".py",
   "mimetype": "text/x-python",
   "name": "python",
   "nbconvert_exporter": "python",
   "pygments_lexer": "ipython3",
   "version": "3.11.5"
  }
 },
 "nbformat": 4,
 "nbformat_minor": 5
}
