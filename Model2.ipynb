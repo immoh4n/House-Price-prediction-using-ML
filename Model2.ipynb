{
 "cells": [
  {
   "cell_type": "code",
   "execution_count": 5,
   "id": "ce2196ed",
   "metadata": {},
   "outputs": [
    {
     "name": "stdout",
     "output_type": "stream",
     "text": [
      "   PRT_ID        AREA  INT_SQFT   DATE_SALE  DIST_MAINROAD  N_BEDROOM  \\\n",
      "0  P03210  Karapakkam      1004  04-05-2011            131        1.0   \n",
      "1  P09411  Anna Nagar      1986  19-12-2006             26        2.0   \n",
      "2  P01812       Adyar       909  04-02-2012             70        1.0   \n",
      "3  P05346   Velachery      1855  13-03-2010             14        3.0   \n",
      "4  P06210  Karapakkam      1226  05-10-2009             84        1.0   \n",
      "\n",
      "   N_BATHROOM  N_ROOM SALE_COND PARK_FACIL  ... UTILITY_AVAIL  STREET MZZONE  \\\n",
      "0         1.0       3  AbNormal        Yes  ...        AllPub   Paved      A   \n",
      "1         1.0       5  AbNormal         No  ...        AllPub  Gravel     RH   \n",
      "2         1.0       3  AbNormal        Yes  ...           ELO  Gravel     RL   \n",
      "3         2.0       5    Family         No  ...       NoSewr    Paved      I   \n",
      "4         1.0       3  AbNormal        Yes  ...        AllPub  Gravel      C   \n",
      "\n",
      "  QS_ROOMS QS_BATHROOM  QS_BEDROOM  QS_OVERALL  REG_FEE  COMMIS  SALES_PRICE  \n",
      "0      4.0         3.9         4.9       4.330   380000  144400      7600000  \n",
      "1      4.9         4.2         2.5       3.765   760122  304049     21717770  \n",
      "2      4.1         3.8         2.2       3.090   421094   92114     13159200  \n",
      "3      4.7         3.9         3.6       4.010   356321   77042      9630290  \n",
      "4      3.0         2.5         4.1       3.290   237000   74063      7406250  \n",
      "\n",
      "[5 rows x 22 columns]\n"
     ]
    }
   ],
   "source": [
    "import pandas as pd\n",
    "import numpy as np\n",
    "import pandas as pd\n",
    "import matplotlib.pyplot as plt\n",
    "import seaborn as sns\n",
    "data = pd.read_csv('Chennai houseing sale.csv')\n",
    "print(data.head(5))"
   ]
  },
  {
   "cell_type": "code",
   "execution_count": 6,
   "id": "e39f6fd8",
   "metadata": {},
   "outputs": [
    {
     "data": {
      "text/plain": [
       "(7109, 22)"
      ]
     },
     "execution_count": 6,
     "metadata": {},
     "output_type": "execute_result"
    }
   ],
   "source": [
    "\n",
    "data.shape"
   ]
  },
  {
   "cell_type": "code",
   "execution_count": 7,
   "id": "7017a85a",
   "metadata": {},
   "outputs": [],
   "source": [
    "df = data.dropna()"
   ]
  },
  {
   "cell_type": "code",
   "execution_count": 8,
   "id": "8cf7d1a5",
   "metadata": {},
   "outputs": [
    {
     "data": {
      "text/plain": [
       "(7056, 22)"
      ]
     },
     "execution_count": 8,
     "metadata": {},
     "output_type": "execute_result"
    }
   ],
   "source": [
    "df.shape"
   ]
  },
  {
   "cell_type": "code",
   "execution_count": 9,
   "id": "0e14d4fd",
   "metadata": {},
   "outputs": [
    {
     "name": "stdout",
     "output_type": "stream",
     "text": [
      "Categorical variables: 10\n",
      "Integer variables: 0\n",
      "Float variables: 6\n"
     ]
    }
   ],
   "source": [
    "obj = (df.dtypes == 'object')\n",
    "object_cols = list(obj[obj].index)\n",
    "print(\"Categorical variables:\",len(object_cols))\n",
    "\n",
    "int_ = (df.dtypes == 'int')\n",
    "num_cols = list(int_[int_].index)\n",
    "print(\"Integer variables:\",len(num_cols))\n",
    "\n",
    "fl = (df.dtypes == 'float')\n",
    "fl_cols = list(fl[fl].index)\n",
    "print(\"Float variables:\",len(fl_cols))\n"
   ]
  },
  {
   "cell_type": "code",
   "execution_count": 11,
   "id": "21b2159b",
   "metadata": {},
   "outputs": [
    {
     "data": {
      "image/png": "[encoded data removed]",
      "text/plain": [
       "<Figure size 640x480 with 1 Axes>"
      ]
     },
     "metadata": {},
     "output_type": "display_data"
    }
   ],
   "source": [
    "plt.hist(df['SALES_PRICE'],color=\"red\")\n",
    "plt.xlabel(\"SALED_PRICE\")\n",
    "plt.show()\n"
   ]
  },
  {
   "cell_type": "code",
   "execution_count": 13,
   "id": "f4607c95",
   "metadata": {},
   "outputs": [],
   "source": [
    "data.dropna(inplace=True)"
   ]
  },
  {
   "cell_type": "code",
   "execution_count": 14,
   "id": "e7169895",
   "metadata": {},
   "outputs": [],
   "source": [
    "data.columns = data.columns.str.lower()"
   ]
  },
  {
   "cell_type": "code",
   "execution_count": 15,
   "id": "3a453bd1",
   "metadata": {},
   "outputs": [],
   "source": [
    "data.area = data.area.str.lower()"
   ]
  },
  {
   "cell_type": "code",
   "execution_count": 16,
   "id": "854e521a",
   "metadata": {},
   "outputs": [],
   "source": [
    "data = pd.get_dummies(data,columns=['buildtype'])"
   ]
  },
  {
   "cell_type": "code",
   "execution_count": 17,
   "id": "4b7ab379",
   "metadata": {},
   "outputs": [],
   "source": [
    "#Enconding the area column\n",
    "data.area = data.area.map({'karapakkam': 1,\n",
    "                           'adyar': 2, \n",
    "                           'chrompet' : 3,\n",
    "                           'velachery' : 4,\n",
    "                           'kk nagar' : 5, \n",
    "                           'anna nagar' : 6,\n",
    "                           't nagar' : 7})\n",
    "\n",
    "# Encoding the sale_cond column order-wise \n",
    "data.sale_cond = data.sale_cond.map({'partial' : 1, \n",
    "                                     'family' : 2, \n",
    "                                     'abnormal' : 3, \n",
    "                                     'normal sale' : 4,\n",
    "                                     'adjland' : 5})\n",
    "\n",
    "# Encoding the park_facil column order-wise \n",
    "data.park_facil = data.park_facil.map({'yes':1,\n",
    "                                       'no':0})\n",
    "\n",
    "# Encoding the utility_avail column order-wise \n",
    "data.utility_avail = data.utility_avail.map({'elo' : 1, \n",
    "                                             'nosewa' : 2, \n",
    "                                             'nosewr ' : 3,\n",
    "                                             'allpub' : 4})\n",
    "                                          \n",
    "# Encoding the street column order-wise \n",
    "data.street = data.street.map({'no access' : 1,\n",
    "                               'paved' : 2, \n",
    "                               'gravel' : 3})\n",
    "\n",
    "# Encoding the mzzone column order-wise \n",
    "data.mzzone = data.mzzone.map({'a' : 1,\n",
    "                               'c' : 2,\n",
    "                               'i' : 3,\n",
    "                               'rl' : 5,\n",
    "                               'rh' : 4,\n",
    "                               'rm' : 6})"
   ]
  },
  {
   "cell_type": "code",
   "execution_count": 19,
   "id": "bbfe9c0d",
   "metadata": {},
   "outputs": [
    {
     "name": "stdout",
     "output_type": "stream",
     "text": [
      "   prt_id  area  int_sqft   date_sale  dist_mainroad  n_bedroom  n_bathroom  \\\n",
      "0  P03210   1.0      1004  04-05-2011            131        1.0         1.0   \n",
      "1  P09411   6.0      1986  19-12-2006             26        2.0         1.0   \n",
      "2  P01812   2.0       909  04-02-2012             70        1.0         1.0   \n",
      "3  P05346   4.0      1855  13-03-2010             14        3.0         2.0   \n",
      "4  P06210   1.0      1226  05-10-2009             84        1.0         1.0   \n",
      "\n",
      "   n_room  sale_cond  park_facil  ... qs_bedroom  qs_overall  reg_fee  commis  \\\n",
      "0       3        NaN         NaN  ...        4.9       4.330   380000  144400   \n",
      "1       5        NaN         NaN  ...        2.5       3.765   760122  304049   \n",
      "2       3        NaN         NaN  ...        2.2       3.090   421094   92114   \n",
      "3       5        NaN         NaN  ...        3.6       4.010   356321   77042   \n",
      "4       3        NaN         NaN  ...        4.1       3.290   237000   74063   \n",
      "\n",
      "   sales_price  buildtype_Comercial  buildtype_Commercial  buildtype_House  \\\n",
      "0      7600000                False                  True            False   \n",
      "1     21717770                False                  True            False   \n",
      "2     13159200                False                  True            False   \n",
      "3      9630290                False                 False            False   \n",
      "4      7406250                False                 False            False   \n",
      "\n",
      "   buildtype_Other  buildtype_Others  \n",
      "0            False             False  \n",
      "1            False             False  \n",
      "2            False             False  \n",
      "3            False              True  \n",
      "4            False              True  \n",
      "\n",
      "[5 rows x 26 columns]\n"
     ]
    }
   ],
   "source": [
    "print(data.head(5))"
   ]
  },
  {
   "cell_type": "code",
   "execution_count": 20,
   "id": "afbaee73",
   "metadata": {},
   "outputs": [],
   "source": [
    "data.dropna(inplace=True)"
   ]
  },
  {
   "cell_type": "code",
   "execution_count": null,
   "id": "1be6015a",
   "metadata": {},
   "outputs": [],
   "source": []
  }
 ],
 "metadata": {
  "kernelspec": {
   "display_name": "Python 3 (ipykernel)",
   "language": "python",
   "name": "python3"
  },
  "language_info": {
   "codemirror_mode": {
    "name": "ipython",
    "version": 3
   },
   "file_extension": ".py",
   "mimetype": "text/x-python",
   "name": "python",
   "nbconvert_exporter": "python",
   "pygments_lexer": "ipython3",
   "version": "3.11.5"
  }
 },
 "nbformat": 4,
 "nbformat_minor": 5
}
